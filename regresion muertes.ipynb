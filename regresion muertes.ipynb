{
 "cells": [
  {
   "cell_type": "code",
   "execution_count": 1,
   "metadata": {},
   "outputs": [],
   "source": [
    "import numpy as np\n",
    "import matplotlib.pyplot as plt \n",
    "import pandas as pd \n",
    "%matplotlib inline"
   ]
  },
  {
   "cell_type": "code",
   "execution_count": 2,
   "metadata": {},
   "outputs": [],
   "source": [
    "df=pd.read_csv(\"ProyecoReady.csv\")"
   ]
  },
  {
   "cell_type": "code",
   "execution_count": 3,
   "metadata": {},
   "outputs": [
    {
     "data": {
      "text/html": [
       "<div>\n",
       "<style scoped>\n",
       "    .dataframe tbody tr th:only-of-type {\n",
       "        vertical-align: middle;\n",
       "    }\n",
       "\n",
       "    .dataframe tbody tr th {\n",
       "        vertical-align: top;\n",
       "    }\n",
       "\n",
       "    .dataframe thead th {\n",
       "        text-align: right;\n",
       "    }\n",
       "</style>\n",
       "<table border=\"1\" class=\"dataframe\">\n",
       "  <thead>\n",
       "    <tr style=\"text-align: right;\">\n",
       "      <th></th>\n",
       "      <th>gameid</th>\n",
       "      <th>side</th>\n",
       "      <th>position</th>\n",
       "      <th>player</th>\n",
       "      <th>team</th>\n",
       "      <th>champion</th>\n",
       "      <th>ban1</th>\n",
       "      <th>ban2</th>\n",
       "      <th>ban3</th>\n",
       "      <th>ban4</th>\n",
       "      <th>...</th>\n",
       "      <th>goldat10</th>\n",
       "      <th>gdat10</th>\n",
       "      <th>goldat15</th>\n",
       "      <th>gdat15</th>\n",
       "      <th>xpat10</th>\n",
       "      <th>xpdat10</th>\n",
       "      <th>csat10</th>\n",
       "      <th>csdat10</th>\n",
       "      <th>csat15</th>\n",
       "      <th>csdat15</th>\n",
       "    </tr>\n",
       "  </thead>\n",
       "  <tbody>\n",
       "    <tr>\n",
       "      <td>0</td>\n",
       "      <td>1070340</td>\n",
       "      <td>Blue</td>\n",
       "      <td>Top</td>\n",
       "      <td>Evi</td>\n",
       "      <td>DetonatioN FocusMe</td>\n",
       "      <td>Gnar</td>\n",
       "      <td>Qiyana</td>\n",
       "      <td>Gangplank</td>\n",
       "      <td>Akali</td>\n",
       "      <td>Elise</td>\n",
       "      <td>...</td>\n",
       "      <td>3078</td>\n",
       "      <td>-362</td>\n",
       "      <td>4670</td>\n",
       "      <td>-798</td>\n",
       "      <td>4530</td>\n",
       "      <td>-521</td>\n",
       "      <td>76</td>\n",
       "      <td>-14</td>\n",
       "      <td>116</td>\n",
       "      <td>-6</td>\n",
       "    </tr>\n",
       "    <tr>\n",
       "      <td>1</td>\n",
       "      <td>1070340</td>\n",
       "      <td>Blue</td>\n",
       "      <td>Jungle</td>\n",
       "      <td>Steal</td>\n",
       "      <td>DetonatioN FocusMe</td>\n",
       "      <td>Ekko</td>\n",
       "      <td>Qiyana</td>\n",
       "      <td>Gangplank</td>\n",
       "      <td>Akali</td>\n",
       "      <td>Elise</td>\n",
       "      <td>...</td>\n",
       "      <td>3684</td>\n",
       "      <td>-371</td>\n",
       "      <td>4912</td>\n",
       "      <td>-1366</td>\n",
       "      <td>3679</td>\n",
       "      <td>-249</td>\n",
       "      <td>60</td>\n",
       "      <td>-4</td>\n",
       "      <td>88</td>\n",
       "      <td>-17</td>\n",
       "    </tr>\n",
       "    <tr>\n",
       "      <td>2</td>\n",
       "      <td>1070340</td>\n",
       "      <td>Blue</td>\n",
       "      <td>Middle</td>\n",
       "      <td>Ceros</td>\n",
       "      <td>DetonatioN FocusMe</td>\n",
       "      <td>Nocturne</td>\n",
       "      <td>Qiyana</td>\n",
       "      <td>Gangplank</td>\n",
       "      <td>Akali</td>\n",
       "      <td>Elise</td>\n",
       "      <td>...</td>\n",
       "      <td>3926</td>\n",
       "      <td>357</td>\n",
       "      <td>5487</td>\n",
       "      <td>-629</td>\n",
       "      <td>4751</td>\n",
       "      <td>218</td>\n",
       "      <td>88</td>\n",
       "      <td>3</td>\n",
       "      <td>131</td>\n",
       "      <td>-19</td>\n",
       "    </tr>\n",
       "    <tr>\n",
       "      <td>3</td>\n",
       "      <td>1070340</td>\n",
       "      <td>Blue</td>\n",
       "      <td>ADC</td>\n",
       "      <td>Yutapon</td>\n",
       "      <td>DetonatioN FocusMe</td>\n",
       "      <td>Lucian</td>\n",
       "      <td>Qiyana</td>\n",
       "      <td>Gangplank</td>\n",
       "      <td>Akali</td>\n",
       "      <td>Elise</td>\n",
       "      <td>...</td>\n",
       "      <td>3579</td>\n",
       "      <td>-390</td>\n",
       "      <td>5313</td>\n",
       "      <td>-1829</td>\n",
       "      <td>3526</td>\n",
       "      <td>-6</td>\n",
       "      <td>87</td>\n",
       "      <td>11</td>\n",
       "      <td>119</td>\n",
       "      <td>-15</td>\n",
       "    </tr>\n",
       "    <tr>\n",
       "      <td>4</td>\n",
       "      <td>1070340</td>\n",
       "      <td>Blue</td>\n",
       "      <td>Support</td>\n",
       "      <td>Gaeng</td>\n",
       "      <td>DetonatioN FocusMe</td>\n",
       "      <td>Thresh</td>\n",
       "      <td>Qiyana</td>\n",
       "      <td>Gangplank</td>\n",
       "      <td>Akali</td>\n",
       "      <td>Elise</td>\n",
       "      <td>...</td>\n",
       "      <td>2088</td>\n",
       "      <td>-306</td>\n",
       "      <td>3163</td>\n",
       "      <td>-1156</td>\n",
       "      <td>2731</td>\n",
       "      <td>355</td>\n",
       "      <td>4</td>\n",
       "      <td>1</td>\n",
       "      <td>6</td>\n",
       "      <td>1</td>\n",
       "    </tr>\n",
       "  </tbody>\n",
       "</table>\n",
       "<p>5 rows × 70 columns</p>\n",
       "</div>"
      ],
      "text/plain": [
       "    gameid  side position   player                team  champion    ban1  \\\n",
       "0  1070340  Blue      Top      Evi  DetonatioN FocusMe      Gnar  Qiyana   \n",
       "1  1070340  Blue   Jungle    Steal  DetonatioN FocusMe      Ekko  Qiyana   \n",
       "2  1070340  Blue   Middle    Ceros  DetonatioN FocusMe  Nocturne  Qiyana   \n",
       "3  1070340  Blue      ADC  Yutapon  DetonatioN FocusMe    Lucian  Qiyana   \n",
       "4  1070340  Blue  Support    Gaeng  DetonatioN FocusMe    Thresh  Qiyana   \n",
       "\n",
       "        ban2   ban3   ban4  ... goldat10 gdat10  goldat15  gdat15  xpat10  \\\n",
       "0  Gangplank  Akali  Elise  ...     3078   -362      4670    -798    4530   \n",
       "1  Gangplank  Akali  Elise  ...     3684   -371      4912   -1366    3679   \n",
       "2  Gangplank  Akali  Elise  ...     3926    357      5487    -629    4751   \n",
       "3  Gangplank  Akali  Elise  ...     3579   -390      5313   -1829    3526   \n",
       "4  Gangplank  Akali  Elise  ...     2088   -306      3163   -1156    2731   \n",
       "\n",
       "   xpdat10  csat10  csdat10  csat15  csdat15  \n",
       "0     -521      76      -14     116       -6  \n",
       "1     -249      60       -4      88      -17  \n",
       "2      218      88        3     131      -19  \n",
       "3       -6      87       11     119      -15  \n",
       "4      355       4        1       6        1  \n",
       "\n",
       "[5 rows x 70 columns]"
      ]
     },
     "execution_count": 3,
     "metadata": {},
     "output_type": "execute_result"
    }
   ],
   "source": [
    "df.head()"
   ]
  },
  {
   "cell_type": "code",
   "execution_count": 17,
   "metadata": {},
   "outputs": [],
   "source": [
    "X = df.iloc[:, [17]].values\n",
    "y = df.iloc[:, 12].values"
   ]
  },
  {
   "cell_type": "code",
   "execution_count": 18,
   "metadata": {},
   "outputs": [],
   "source": [
    "from sklearn.model_selection import train_test_split\n",
    "X_train, X_test, y_train, y_test = train_test_split(X, y, test_size = 1/3, random_state = 123)"
   ]
  },
  {
   "cell_type": "code",
   "execution_count": 19,
   "metadata": {},
   "outputs": [
    {
     "data": {
      "text/plain": [
       "LinearRegression(copy_X=True, fit_intercept=True, n_jobs=None, normalize=False)"
      ]
     },
     "execution_count": 19,
     "metadata": {},
     "output_type": "execute_result"
    }
   ],
   "source": [
    "from sklearn.linear_model import LinearRegression \n",
    "model = LinearRegression()\n",
    "model.fit(X_train, y_train)"
   ]
  },
  {
   "cell_type": "code",
   "execution_count": 20,
   "metadata": {},
   "outputs": [
    {
     "name": "stdout",
     "output_type": "stream",
     "text": [
      "Desempeño del modelo:  0.34986782449079945\n"
     ]
    }
   ],
   "source": [
    "y_pred = model.predict(X_test)\n",
    "print (\"Desempeño del modelo: \", model.score(X_test, y_test))"
   ]
  },
  {
   "cell_type": "code",
   "execution_count": 23,
   "metadata": {},
   "outputs": [
    {
     "data": {
      "image/png": "[encoded data removed]",
      "text/plain": [
       "<Figure size 432x288 with 1 Axes>"
      ]
     },
     "metadata": {
      "needs_background": "light"
     },
     "output_type": "display_data"
    }
   ],
   "source": [
    "plt.scatter(X_train, y_train, color = 'red') \n",
    "plt.plot(X_train, model.predict(X_train), color = 'blue') \n",
    "plt.title('') \n",
    "plt.xlabel('muertes')\n",
    "plt.ylabel('win or lose')\n",
    "plt.show()"
   ]
  },
  {
   "cell_type": "code",
   "execution_count": 24,
   "metadata": {},
   "outputs": [
    {
     "data": {
      "image/png": "[encoded data removed]",
      "text/plain": [
       "<Figure size 432x288 with 1 Axes>"
      ]
     },
     "metadata": {
      "needs_background": "light"
     },
     "output_type": "display_data"
    }
   ],
   "source": [
    "plt.scatter(X_test, y_test, color = 'red')\n",
    "plt.plot(X_train, model.predict(X_train), color = 'blue')\n",
    "plt.title('')\n",
    "plt.xlabel('muertes')\n",
    "plt.ylabel('win or lose')\n",
    "plt.show()"
   ]
  },
  {
   "cell_type": "code",
   "execution_count": 27,
   "metadata": {},
   "outputs": [
    {
     "name": "stdout",
     "output_type": "stream",
     "text": [
      "0\n"
     ]
    }
   ],
   "source": [
    "y_Dosmil = model.predict([[25]])\n",
    "print(int(y_Dosmil))"
   ]
  },
  {
   "cell_type": "code",
   "execution_count": 28,
   "metadata": {},
   "outputs": [
    {
     "name": "stdout",
     "output_type": "stream",
     "text": [
      "0\n"
     ]
    }
   ],
   "source": [
    "y_Dosmil = model.predict([[15]])\n",
    "print(int(y_Dosmil))"
   ]
  },
  {
   "cell_type": "code",
   "execution_count": null,
   "metadata": {},
   "outputs": [],
   "source": []
  }
 ],
 "metadata": {
  "kernelspec": {
   "display_name": "Python 3",
   "language": "python",
   "name": "python3"
  },
  "language_info": {
   "codemirror_mode": {
    "name": "ipython",
    "version": 3
   },
   "file_extension": ".py",
   "mimetype": "text/x-python",
   "name": "python",
   "nbconvert_exporter": "python",
   "pygments_lexer": "ipython3",
   "version": "3.7.4"
  }
 },
 "nbformat": 4,
 "nbformat_minor": 2
}
